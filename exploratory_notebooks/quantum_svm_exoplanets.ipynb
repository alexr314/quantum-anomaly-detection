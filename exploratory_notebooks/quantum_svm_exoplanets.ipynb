{
  "cells": [
    {
      "cell_type": "markdown",
      "id": "398a1114",
      "metadata": {
        "id": "398a1114"
      },
      "source": [
        "# Installations"
      ]
    },
    {
      "cell_type": "markdown",
      "id": "oLrV10DXaJ2k",
      "metadata": {
        "id": "oLrV10DXaJ2k"
      },
      "source": [
        "## Import and load packages"
      ]
    },
    {
      "cell_type": "markdown",
      "id": "d60f20a9",
      "metadata": {
        "id": "d60f20a9"
      },
      "source": [
        "Install the packages that we need in order to run on Google Colab. Always check the version number because it is more recent than what was used in the book. Version mismatch may or may not be a problem."
      ]
    },
    {
      "cell_type": "code",
      "execution_count": 1,
      "id": "v6t47A4B16Ds",
      "metadata": {
        "colab": {
          "base_uri": "https://localhost:8080/"
        },
        "id": "v6t47A4B16Ds",
        "outputId": "873daff2-c40c-43b9-9012-ea62ff8312b6"
      },
      "outputs": [
        {
          "name": "stdout",
          "output_type": "stream",
          "text": [
            "1.6.1\n"
          ]
        }
      ],
      "source": [
        "import sklearn\n",
        "\n",
        "print(sklearn.__version__)"
      ]
    },
    {
      "cell_type": "markdown",
      "id": "fFpGJdwtY1m1",
      "metadata": {
        "id": "fFpGJdwtY1m1"
      },
      "source": [
        "Google Colab does not have PennyLane by default, so install it first. This should be very fast (seconds)."
      ]
    },
    {
      "cell_type": "code",
      "execution_count": 2,
      "id": "ihGrNnsm23Y9",
      "metadata": {
        "colab": {
          "base_uri": "https://localhost:8080/"
        },
        "id": "ihGrNnsm23Y9",
        "outputId": "d65f75b0-ce36-40bd-8599-d93eeafc7a34"
      },
      "outputs": [
        {
          "name": "stdout",
          "output_type": "stream",
          "text": [
            "0.41.1\n"
          ]
        }
      ],
      "source": [
        "import pennylane as qml\n",
        "\n",
        "print(qml.__version__)"
      ]
    },
    {
      "cell_type": "markdown",
      "id": "_xo4FTanZMhd",
      "metadata": {
        "id": "_xo4FTanZMhd"
      },
      "source": [
        "Import numpy and set a seed for reproducibility."
      ]
    },
    {
      "cell_type": "code",
      "execution_count": 3,
      "id": "6d229d9c",
      "metadata": {
        "id": "6d229d9c"
      },
      "outputs": [],
      "source": [
        "import numpy as np\n",
        "\n",
        "seed = 1234\n",
        "np.random.seed(seed)"
      ]
    },
    {
      "cell_type": "code",
      "execution_count": 4,
      "id": "c6Mu_Jpsa7Eo",
      "metadata": {
        "id": "c6Mu_Jpsa7Eo"
      },
      "outputs": [],
      "source": [
        "import matplotlib.pyplot as plt"
      ]
    },
    {
      "cell_type": "markdown",
      "id": "vbedca0maO3X",
      "metadata": {
        "id": "vbedca0maO3X"
      },
      "source": [
        "## Import and visualize the dataset"
      ]
    },
    {
      "cell_type": "code",
      "execution_count": 148,
      "id": "29239158",
      "metadata": {},
      "outputs": [],
      "source": [
        "from utils import simple_train_test_split\n",
        "import os\n",
        "\n",
        "# Define the noise level in ppm\n",
        "noise_ppm = 50\n",
        "\n",
        "# Import the exoplanet data:\n",
        "\n",
        "path = f'data/processed_spectra/{noise_ppm}ppm'\n",
        "\n",
        "data_normal = np.load(os.path.join(path, f'normal_{noise_ppm}ppm.npy'))\n",
        "data_anom = np.load(os.path.join(path, f'anom_{noise_ppm}ppm.npy'))\n",
        "wavelengths = np.load(os.path.join('data', 'wavelengths.npy'))\n",
        "\n",
        "# # Convert to tensors\n",
        "# data_normal = torch.tensor(data_normal, dtype=torch.float32)\n",
        "# data_anom = torch.tensor(data_anom, dtype=torch.float32)\n",
        "\n",
        "# Split data into training and testing\n",
        "data_normal_train, data_normal_test = simple_train_test_split(data_normal)"
      ]
    },
    {
      "cell_type": "code",
      "execution_count": 149,
      "id": "60efee6f",
      "metadata": {},
      "outputs": [
        {
          "name": "stdout",
          "output_type": "stream",
          "text": [
            "data_normal_train shape: (12303, 52)\n",
            "data_normal_test shape: (3076, 52)\n",
            "data_anom shape: (17869, 52)\n",
            "latent_normal_train shape: (12303, 8)\n",
            "latent_normal_test shape: (3076, 8)\n",
            "latent_anom shape: (17869, 8)\n"
          ]
        }
      ],
      "source": [
        "## Load latent data\n",
        "\n",
        "latent_data_path = f'regularized_autoencoder/{noise_ppm}ppm'\n",
        "\n",
        "latent_normal_test = np.load(os.path.join(latent_data_path, f'latent_normal_test_{noise_ppm}ppm.npy'))\n",
        "latent_normal_train = np.load(os.path.join(latent_data_path, f'latent_normal_train_{noise_ppm}ppm.npy'))\n",
        "latent_anom = np.load(os.path.join(latent_data_path, f'latent_anom_{noise_ppm}ppm.npy'))\n",
        "\n",
        "# Print all the shapes\n",
        "print(f\"data_normal_train shape: {data_normal_train.shape}\")\n",
        "print(f\"data_normal_test shape: {data_normal_test.shape}\")\n",
        "print(f\"data_anom shape: {data_anom.shape}\")\n",
        "\n",
        "# Print the shapes of the latent data\n",
        "print(f\"latent_normal_train shape: {latent_normal_train.shape}\")\n",
        "print(f\"latent_normal_test shape: {latent_normal_test.shape}\")\n",
        "print(f\"latent_anom shape: {latent_anom.shape}\")"
      ]
    },
    {
      "cell_type": "code",
      "execution_count": 199,
      "id": "8e4d3ce9",
      "metadata": {},
      "outputs": [
        {
          "name": "stdout",
          "output_type": "stream",
          "text": [
            "x shape: (128, 8)\n",
            "y shape: (128,)\n",
            "y: [0. 0. 0. 0. 0. 0. 0. 0. 0. 0. 0. 0. 0. 0. 0. 0. 0. 0. 0. 0. 0. 0. 0. 0.\n",
            " 0. 0. 0. 0. 0. 0. 0. 0. 0. 0. 0. 0. 0. 0. 0. 0. 0. 0. 0. 0. 0. 0. 0. 0.\n",
            " 0. 0. 0. 0. 0. 0. 0. 0. 0. 0. 0. 0. 0. 0. 0. 0. 1. 1. 1. 1. 1. 1. 1. 1.\n",
            " 1. 1. 1. 1. 1. 1. 1. 1. 1. 1. 1. 1. 1. 1. 1. 1. 1. 1. 1. 1. 1. 1. 1. 1.\n",
            " 1. 1. 1. 1. 1. 1. 1. 1. 1. 1. 1. 1. 1. 1. 1. 1. 1. 1. 1. 1. 1. 1. 1. 1.\n",
            " 1. 1. 1. 1. 1. 1. 1. 1.]\n"
          ]
        }
      ],
      "source": [
        "n_samples = 64\n",
        "\n",
        "x = np.concatenate((latent_normal_train[:n_samples], latent_anom[:n_samples]), axis=0)\n",
        "y = np.concatenate((np.zeros(n_samples), np.ones(n_samples)), axis=0)\n",
        "\n",
        "print(f\"x shape: {x.shape}\")\n",
        "print(f\"y shape: {y.shape}\")\n",
        "print(f\"y: {y}\")"
      ]
    },
    {
      "cell_type": "markdown",
      "id": "EokJvDzDfhjM",
      "metadata": {
        "id": "EokJvDzDfhjM"
      },
      "source": [
        "Just the two classes we are considering:"
      ]
    },
    {
      "cell_type": "code",
      "execution_count": 173,
      "id": "WIoH3wR2fSbh",
      "metadata": {
        "colab": {
          "base_uri": "https://localhost:8080/",
          "height": 0
        },
        "id": "WIoH3wR2fSbh",
        "outputId": "96863378-e197-4867-a5fa-57eca3b0d47c"
      },
      "outputs": [
        {
          "data": {
            "image/png": "[encoded data removed]",
            "text/plain": [
              "<Figure size 1000x500 with 8 Axes>"
            ]
          },
          "metadata": {},
          "output_type": "display_data"
        }
      ],
      "source": [
        "fig = plt.subplots(2,4,figsize=(10,5))\n",
        "plt.tight_layout()\n",
        "\n",
        "bins = np.linspace(-0.1, 0.1, 20)\n",
        "\n",
        "for i in range(8):\n",
        "    plt.subplot(2,4,i+1)\n",
        "    plt.hist(x[y==0, i], bins=bins, alpha=0.5, label='normal')\n",
        "    plt.hist(x[y==1, i], bins=bins, alpha=0.5, label='anomalous')\n",
        "    plt.legend()"
      ]
    },
    {
      "cell_type": "markdown",
      "id": "-CDYN_rlaVeG",
      "metadata": {
        "id": "-CDYN_rlaVeG"
      },
      "source": [
        "## Preprocess the data"
      ]
    },
    {
      "cell_type": "markdown",
      "id": "iS7fiogSc_YI",
      "metadata": {
        "id": "iS7fiogSc_YI"
      },
      "source": [
        "Create a train-test split 90:10."
      ]
    },
    {
      "cell_type": "code",
      "execution_count": 174,
      "id": "e189199b",
      "metadata": {
        "id": "e189199b"
      },
      "outputs": [],
      "source": [
        "from sklearn.model_selection import train_test_split\n",
        "\n",
        "x_train, x_test, y_train, y_test = train_test_split(x, y, train_size = 0.9)"
      ]
    },
    {
      "cell_type": "markdown",
      "id": "7t1fECkUdHU_",
      "metadata": {
        "id": "7t1fECkUdHU_"
      },
      "source": [
        "Feature maps expect the features to be normalized. Here we use the MaxAbsScaler but other options are also possible. Note that the scaler is fitted to the training data only to avoid contamination from the testing data."
      ]
    },
    {
      "cell_type": "code",
      "execution_count": 175,
      "id": "56a1e1d4",
      "metadata": {
        "id": "56a1e1d4"
      },
      "outputs": [],
      "source": [
        "from sklearn.preprocessing import MaxAbsScaler\n",
        "\n",
        "scaler = MaxAbsScaler()\n",
        "x_tr = scaler.fit_transform(x_train)\n",
        "y_tr = y_train"
      ]
    },
    {
      "cell_type": "markdown",
      "id": "56jMdo0Xg-Dj",
      "metadata": {
        "id": "56jMdo0Xg-Dj"
      },
      "source": [
        "Check the features after rescaling:"
      ]
    },
    {
      "cell_type": "code",
      "execution_count": 176,
      "id": "Py977K9edf-L",
      "metadata": {
        "colab": {
          "base_uri": "https://localhost:8080/",
          "height": 0
        },
        "id": "Py977K9edf-L",
        "outputId": "87858941-40f6-4462-ff20-d003edcc5b16"
      },
      "outputs": [
        {
          "data": {
            "image/png": "[encoded data removed]",
            "text/plain": [
              "<Figure size 1000x500 with 8 Axes>"
            ]
          },
          "metadata": {},
          "output_type": "display_data"
        }
      ],
      "source": [
        "fig = plt.subplots(2,4,figsize=(10,5))\n",
        "plt.tight_layout()\n",
        "\n",
        "ind0 = np.where(y_tr == 0)[0]\n",
        "ind1 = np.where(y_tr == 1)[0]\n",
        "\n",
        "bins = np.linspace(-1, 1, 30)\n",
        "\n",
        "for i in range(8):\n",
        "    plt.subplot(2,4,i+1)\n",
        "    plt.hist(x_tr[ind0,i], bins=bins, alpha=0.5)\n",
        "    plt.hist(x_tr[ind1,i], bins=bins, alpha=0.5)\n",
        "    plt.xlim(-1, 1)"
      ]
    },
    {
      "cell_type": "markdown",
      "id": "B3If4EAyhecF",
      "metadata": {
        "id": "B3If4EAyhecF"
      },
      "source": [
        "Now also transform the testing data with the already trained scaler."
      ]
    },
    {
      "cell_type": "code",
      "execution_count": 177,
      "id": "2EnTsRGRhmEP",
      "metadata": {
        "id": "2EnTsRGRhmEP"
      },
      "outputs": [],
      "source": [
        "x_test = scaler.transform(x_test)"
      ]
    },
    {
      "cell_type": "markdown",
      "id": "xxuekviLhpNy",
      "metadata": {
        "id": "xxuekviLhpNy"
      },
      "source": [
        "Check if there are any values outside the (0,1) range:"
      ]
    },
    {
      "cell_type": "code",
      "execution_count": 178,
      "id": "4BJ4hSjghzwx",
      "metadata": {
        "colab": {
          "base_uri": "https://localhost:8080/"
        },
        "id": "4BJ4hSjghzwx",
        "outputId": "fbe9b84e-9baf-4f94-c453-f928c179b9eb"
      },
      "outputs": [
        {
          "name": "stdout",
          "output_type": "stream",
          "text": [
            "Train\n",
            "0 -0.397907 1.0\n",
            "1 -1.0 0.19047602\n",
            "2 -0.52274704 1.0\n",
            "3 -0.7955755 1.0\n",
            "4 -0.46342084 1.0\n",
            "5 -0.81335676 1.0\n",
            "6 -0.85282195 1.0\n",
            "7 -0.9768473 1.0\n",
            "Test\n",
            "0 -0.2211996 0.8507252\n",
            "1 -0.4645762 0.113102674\n",
            "2 -0.08744575 0.765504\n",
            "3 -0.6629374 0.59679043\n",
            "4 -0.34125644 0.45897993\n",
            "5 -0.47255003 0.9779679\n",
            "6 -0.36620012 0.40622544\n",
            "7 -0.20739578 0.82316154\n"
          ]
        }
      ],
      "source": [
        "print('Train')\n",
        "for i in range(8):\n",
        "    print(i, np.min(x_tr[:,i]), np.max(x_tr[:,i]))\n",
        "\n",
        "print('Test')\n",
        "for i in range(8):\n",
        "    print(i, np.min(x_test[:,i]), np.max(x_test[:,i]))"
      ]
    },
    {
      "cell_type": "markdown",
      "id": "0e3sS1uTidsq",
      "metadata": {
        "id": "0e3sS1uTidsq"
      },
      "source": [
        "# QSVM model number 1"
      ]
    },
    {
      "cell_type": "markdown",
      "id": "JoZjT27bixWX",
      "metadata": {
        "id": "JoZjT27bixWX"
      },
      "source": [
        "Encode all of the original 13 features using amplitude embedding on 4 qubits. It can handle up to 16 features, so we pad the last 3 with zeros.\n",
        "\n"
      ]
    },
    {
      "cell_type": "code",
      "execution_count": 200,
      "id": "7a28e035",
      "metadata": {
        "id": "7a28e035"
      },
      "outputs": [],
      "source": [
        "nqubits = 4\n",
        "dev = qml.device(\"lightning.qubit\", wires = nqubits)\n",
        "\n",
        "@qml.qnode(dev)\n",
        "def kernel_circ(a, b):\n",
        "    qml.AmplitudeEmbedding(\n",
        "        a, wires=range(nqubits), pad_with=0, normalize=True)\n",
        "    qml.adjoint(qml.AmplitudeEmbedding(\n",
        "        b, wires=range(nqubits), pad_with=0, normalize=True))\n",
        "    return qml.probs(wires = range(nqubits))"
      ]
    },
    {
      "cell_type": "markdown",
      "id": "wvpB-HR-lBHh",
      "metadata": {
        "id": "wvpB-HR-lBHh"
      },
      "source": [
        "Check that you get 1 for the first entry if the element is the same:"
      ]
    },
    {
      "cell_type": "markdown",
      "id": "92932fef",
      "metadata": {},
      "source": [
        "### Comparing the time to evaluate kernals"
      ]
    },
    {
      "cell_type": "code",
      "execution_count": 198,
      "id": "67817bf1",
      "metadata": {},
      "outputs": [
        {
          "name": "stdout",
          "output_type": "stream",
          "text": [
            "349 ns ± 2 ns per loop (mean ± std. dev. of 7 runs, 1,000,000 loops each)\n"
          ]
        }
      ],
      "source": [
        "# Fast: Numpy dot product\n",
        "%timeit np.dot(x_tr[22], x_tr[23])"
      ]
    },
    {
      "cell_type": "code",
      "execution_count": null,
      "id": "f4320399",
      "metadata": {},
      "outputs": [
        {
          "name": "stdout",
          "output_type": "stream",
          "text": [
            "1.25 μs ± 7.8 ns per loop (mean ± std. dev. of 7 runs, 1,000,000 loops each)\n"
          ]
        }
      ],
      "source": [
        "# Pretty fast: pythonic dot product\n",
        "%timeit sum(x_tr[10,i]*x_tr[22,i] for i in range(8))"
      ]
    },
    {
      "cell_type": "code",
      "execution_count": null,
      "id": "2zEOPEiKjpP1",
      "metadata": {
        "colab": {
          "base_uri": "https://localhost:8080/"
        },
        "id": "2zEOPEiKjpP1",
        "outputId": "0b1b710c-fc28-43e1-8777-bed5063a37a8"
      },
      "outputs": [
        {
          "name": "stdout",
          "output_type": "stream",
          "text": [
            "1.23 ms ± 7.3 μs per loop (mean ± std. dev. of 7 runs, 1,000 loops each)\n"
          ]
        }
      ],
      "source": [
        "# Slow: Quantum kernel\n",
        "%timeit kernel_circ(x_tr[22], x_tr[22])"
      ]
    },
    {
      "cell_type": "markdown",
      "id": "QKaQIplymC47",
      "metadata": {
        "id": "QKaQIplymC47"
      },
      "source": [
        "Run SVC with the custom quantum kernel. (The training takes 70 seconds on Google Colab.)"
      ]
    },
    {
      "cell_type": "code",
      "execution_count": 201,
      "id": "50f14380",
      "metadata": {
        "id": "50f14380"
      },
      "outputs": [],
      "source": [
        "from sklearn.svm import SVC\n",
        "def qkernel(A, B):\n",
        "    return np.array([[kernel_circ(a, b)[0] for b in B] for a in A])\n",
        "\n",
        "svm = SVC(kernel = qkernel).fit(x_tr, y_tr)"
      ]
    },
    {
      "cell_type": "markdown",
      "id": "dzzgz-0Wmi90",
      "metadata": {
        "id": "dzzgz-0Wmi90"
      },
      "source": [
        "Check the performance:"
      ]
    },
    {
      "cell_type": "code",
      "execution_count": 182,
      "id": "8688dcaf",
      "metadata": {
        "colab": {
          "base_uri": "https://localhost:8080/"
        },
        "id": "8688dcaf",
        "outputId": "5b90b5ca-44c5-402f-ccaf-c58fb8fabe85"
      },
      "outputs": [
        {
          "name": "stdout",
          "output_type": "stream",
          "text": [
            "1.0\n"
          ]
        }
      ],
      "source": [
        "from sklearn.metrics import accuracy_score\n",
        "\n",
        "print(accuracy_score(svm.predict(x_test), y_test))"
      ]
    },
    {
      "cell_type": "markdown",
      "id": "fEjzHcYAmqrR",
      "metadata": {
        "id": "fEjzHcYAmqrR"
      },
      "source": [
        "The book says 0.92. Done."
      ]
    },
    {
      "cell_type": "markdown",
      "id": "Qv2Ubd-nmujk",
      "metadata": {
        "id": "Qv2Ubd-nmujk"
      },
      "source": [
        "# QSVM model number 2"
      ]
    },
    {
      "cell_type": "markdown",
      "id": "ZyhRVGUEm8KC",
      "metadata": {
        "id": "ZyhRVGUEm8KC"
      },
      "source": [
        "Now repeat the exercise but first do dimensionality reduction of the data using PCA. Reduce to the first 8 principal components. This allows the use of angular encoding on 8 qubits later."
      ]
    },
    {
      "cell_type": "code",
      "execution_count": 207,
      "id": "d45ce737",
      "metadata": {
        "id": "d45ce737"
      },
      "outputs": [],
      "source": [
        "from sklearn.decomposition import PCA\n",
        "\n",
        "pca = PCA(n_components = 8)\n",
        "\n",
        "x_train_pca = pca.fit_transform(x_tr)\n",
        "x_test_pca = pca.transform(x_test)"
      ]
    },
    {
      "cell_type": "markdown",
      "id": "SbusVKalnP6D",
      "metadata": {
        "id": "SbusVKalnP6D"
      },
      "source": [
        "Now do angular embedding on 8 qubits, unlike the previous case."
      ]
    },
    {
      "cell_type": "code",
      "execution_count": 208,
      "id": "10b581a8",
      "metadata": {
        "id": "10b581a8"
      },
      "outputs": [],
      "source": [
        "nqubits = 8\n",
        "dev = qml.device(\"lightning.qubit\", wires=nqubits)\n",
        "\n",
        "@qml.qnode(dev)\n",
        "def kernel_circ(a, b):\n",
        "    qml.AngleEmbedding(a, wires=range(nqubits))\n",
        "    qml.adjoint(qml.AngleEmbedding(b, wires=range(nqubits)))\n",
        "    return qml.probs(wires = range(nqubits))"
      ]
    },
    {
      "cell_type": "markdown",
      "id": "wzk0bxfzndvm",
      "metadata": {
        "id": "wzk0bxfzndvm"
      },
      "source": [
        "The training takes 39 seconds."
      ]
    },
    {
      "cell_type": "code",
      "execution_count": 209,
      "id": "9a78dad1",
      "metadata": {
        "colab": {
          "base_uri": "https://localhost:8080/"
        },
        "id": "9a78dad1",
        "outputId": "6a922e21-00ac-4233-e969-ce60c0ebe978"
      },
      "outputs": [
        {
          "name": "stdout",
          "output_type": "stream",
          "text": [
            "0.9230769230769231\n"
          ]
        }
      ],
      "source": [
        "svm = SVC(kernel = qkernel).fit(x_tr, y_tr)\n",
        "\n",
        "print(accuracy_score(svm.predict(x_test), y_test))"
      ]
    },
    {
      "cell_type": "markdown",
      "id": "dWB82G19nl-V",
      "metadata": {
        "id": "dWB82G19nl-V"
      },
      "source": [
        "Perfect classification, as in the book."
      ]
    },
    {
      "cell_type": "markdown",
      "id": "_p6mQRQpnu1_",
      "metadata": {
        "id": "_p6mQRQpnu1_"
      },
      "source": [
        "# QSVM model number 3"
      ]
    },
    {
      "cell_type": "markdown",
      "id": "X5PSv5Qdn1GY",
      "metadata": {
        "id": "X5PSv5Qdn1GY"
      },
      "source": [
        "Now use a different feature map. PennyLane comes with several prebuilt embedding templates:\n",
        "\n",
        "https://docs.pennylane.ai/en/stable/introduction/templates.html\n",
        "\n",
        "Here we illustrate a custom-made feature map."
      ]
    },
    {
      "cell_type": "code",
      "execution_count": 205,
      "id": "b314c107",
      "metadata": {
        "id": "b314c107"
      },
      "outputs": [],
      "source": [
        "from itertools import combinations\n",
        "\n",
        "def ZZFeatureMap(nqubits, data):\n",
        "\n",
        "    # Number of variables that we will load:\n",
        "    # could be smaller than the number of qubits.\n",
        "    nload = min(len(data), nqubits)\n",
        "\n",
        "    for i in range(nload):\n",
        "        qml.Hadamard(i)\n",
        "        qml.RZ(2.0 * data[i], wires = i)\n",
        "\n",
        "    for pair in list(combinations(range(nload), 2)):\n",
        "        q0 = pair[0]\n",
        "        q1 = pair[1]\n",
        "\n",
        "        qml.CZ(wires = [q0, q1])\n",
        "        qml.RZ(2.0 * (np.pi - data[q0]) *\n",
        "            (np.pi - data[q1]), wires = q1)\n",
        "        qml.CZ(wires = [q0, q1])"
      ]
    },
    {
      "cell_type": "markdown",
      "id": "HJA7mZL1pfy_",
      "metadata": {
        "id": "HJA7mZL1pfy_"
      },
      "source": [
        "The training takes 75 seconds."
      ]
    },
    {
      "cell_type": "code",
      "execution_count": 206,
      "id": "eb92983b",
      "metadata": {
        "colab": {
          "base_uri": "https://localhost:8080/"
        },
        "id": "eb92983b",
        "outputId": "ef137e30-113b-489d-b34d-d18ad449a311"
      },
      "outputs": [
        {
          "name": "stdout",
          "output_type": "stream",
          "text": [
            "0.9230769230769231\n"
          ]
        }
      ],
      "source": [
        "nqubits = 4\n",
        "dev = qml.device(\"lightning.qubit\", wires = nqubits)\n",
        "\n",
        "@qml.qnode(dev)\n",
        "def kernel_circ(a, b):\n",
        "    ZZFeatureMap(nqubits, a)\n",
        "    qml.adjoint(ZZFeatureMap)(nqubits, b)\n",
        "    return qml.probs(wires = range(nqubits))\n",
        "\n",
        "svm = SVC(kernel=qkernel).fit(xs_tr, y_tr)\n",
        "print(accuracy_score(svm.predict(xs_test), y_test))"
      ]
    },
    {
      "cell_type": "markdown",
      "id": "cNr3wZO0py9W",
      "metadata": {
        "id": "cNr3wZO0py9W"
      },
      "source": [
        "# Epilogue"
      ]
    },
    {
      "cell_type": "markdown",
      "id": "mm00c89Bqkgq",
      "metadata": {
        "id": "mm00c89Bqkgq"
      },
      "source": [
        "Old school scatter plot of the best two original features."
      ]
    },
    {
      "cell_type": "code",
      "execution_count": 191,
      "id": "5lTE4vi9p1jF",
      "metadata": {
        "colab": {
          "base_uri": "https://localhost:8080/",
          "height": 449
        },
        "id": "5lTE4vi9p1jF",
        "outputId": "6e18880e-8c9f-418c-85b1-9f0ddf78ca09"
      },
      "outputs": [
        {
          "data": {
            "image/png": "[encoded data removed]",
            "text/plain": [
              "<Figure size 640x480 with 1 Axes>"
            ]
          },
          "metadata": {},
          "output_type": "display_data"
        }
      ],
      "source": [
        "plt.scatter(x[:n_samples,0], x[:n_samples,7], label='Class 0')\n",
        "plt.scatter(x[n_samples:,0], x[n_samples:,7], label='Class 1')\n",
        "plt.legend()\n",
        "plt.xlabel('Feature 0')\n",
        "plt.ylabel('Feature 7')\n",
        "plt.show()"
      ]
    },
    {
      "cell_type": "code",
      "execution_count": null,
      "id": "5C7PJEDPqF_E",
      "metadata": {
        "id": "5C7PJEDPqF_E"
      },
      "outputs": [],
      "source": []
    }
  ],
  "metadata": {
    "colab": {
      "provenance": []
    },
    "kernelspec": {
      "display_name": "exoplanets_env",
      "language": "python",
      "name": "python3"
    },
    "language_info": {
      "codemirror_mode": {
        "name": "ipython",
        "version": 3
      },
      "file_extension": ".py",
      "mimetype": "text/x-python",
      "name": "python",
      "nbconvert_exporter": "python",
      "pygments_lexer": "ipython3",
      "version": "3.12.4"
    }
  },
  "nbformat": 4,
  "nbformat_minor": 5
}
